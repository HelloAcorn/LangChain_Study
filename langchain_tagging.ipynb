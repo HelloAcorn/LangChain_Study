{
 "cells": [
  {
   "cell_type": "code",
   "execution_count": 2,
   "metadata": {},
   "outputs": [
    {
     "name": "stdout",
     "output_type": "stream",
     "text": [
      "Collecting langchain_openai\n",
      "  Downloading langchain_openai-0.0.2.post1-py3-none-any.whl.metadata (2.4 kB)\n",
      "Requirement already satisfied: langchain-core<0.2,>=0.1.7 in c:\\users\\acorn\\appdata\\local\\programs\\python\\python311\\lib\\site-packages (from langchain_openai) (0.1.10)\n",
      "Requirement already satisfied: numpy<2,>=1 in c:\\users\\acorn\\appdata\\local\\programs\\python\\python311\\lib\\site-packages (from langchain_openai) (1.26.2)\n",
      "Collecting openai<2.0.0,>=1.6.1 (from langchain_openai)\n",
      "  Downloading openai-1.7.2-py3-none-any.whl.metadata (17 kB)\n",
      "Requirement already satisfied: tiktoken<0.6.0,>=0.5.2 in c:\\users\\acorn\\appdata\\local\\programs\\python\\python311\\lib\\site-packages (from langchain_openai) (0.5.2)\n",
      "Requirement already satisfied: PyYAML>=5.3 in c:\\users\\acorn\\appdata\\local\\programs\\python\\python311\\lib\\site-packages (from langchain-core<0.2,>=0.1.7->langchain_openai) (6.0.1)\n",
      "Requirement already satisfied: anyio<5,>=3 in c:\\users\\acorn\\appdata\\local\\programs\\python\\python311\\lib\\site-packages (from langchain-core<0.2,>=0.1.7->langchain_openai) (3.7.1)\n",
      "Requirement already satisfied: jsonpatch<2.0,>=1.33 in c:\\users\\acorn\\appdata\\local\\programs\\python\\python311\\lib\\site-packages (from langchain-core<0.2,>=0.1.7->langchain_openai) (1.33)\n",
      "Requirement already satisfied: langsmith<0.1.0,>=0.0.63 in c:\\users\\acorn\\appdata\\local\\programs\\python\\python311\\lib\\site-packages (from langchain-core<0.2,>=0.1.7->langchain_openai) (0.0.80)\n",
      "Requirement already satisfied: packaging<24.0,>=23.2 in c:\\users\\acorn\\appdata\\roaming\\python\\python311\\site-packages (from langchain-core<0.2,>=0.1.7->langchain_openai) (23.2)\n",
      "Requirement already satisfied: pydantic<3,>=1 in c:\\users\\acorn\\appdata\\local\\programs\\python\\python311\\lib\\site-packages (from langchain-core<0.2,>=0.1.7->langchain_openai) (2.5.1)\n",
      "Requirement already satisfied: requests<3,>=2 in c:\\users\\acorn\\appdata\\local\\programs\\python\\python311\\lib\\site-packages (from langchain-core<0.2,>=0.1.7->langchain_openai) (2.31.0)\n",
      "Requirement already satisfied: tenacity<9.0.0,>=8.1.0 in c:\\users\\acorn\\appdata\\local\\programs\\python\\python311\\lib\\site-packages (from langchain-core<0.2,>=0.1.7->langchain_openai) (8.2.3)\n",
      "Requirement already satisfied: distro<2,>=1.7.0 in c:\\users\\acorn\\appdata\\local\\programs\\python\\python311\\lib\\site-packages (from openai<2.0.0,>=1.6.1->langchain_openai) (1.8.0)\n",
      "Requirement already satisfied: httpx<1,>=0.23.0 in c:\\users\\acorn\\appdata\\local\\programs\\python\\python311\\lib\\site-packages (from openai<2.0.0,>=1.6.1->langchain_openai) (0.25.1)\n",
      "Requirement already satisfied: sniffio in c:\\users\\acorn\\appdata\\local\\programs\\python\\python311\\lib\\site-packages (from openai<2.0.0,>=1.6.1->langchain_openai) (1.3.0)\n",
      "Requirement already satisfied: tqdm>4 in c:\\users\\acorn\\appdata\\local\\programs\\python\\python311\\lib\\site-packages (from openai<2.0.0,>=1.6.1->langchain_openai) (4.66.1)\n",
      "Requirement already satisfied: typing-extensions<5,>=4.7 in c:\\users\\acorn\\appdata\\local\\programs\\python\\python311\\lib\\site-packages (from openai<2.0.0,>=1.6.1->langchain_openai) (4.8.0)\n",
      "Requirement already satisfied: regex>=2022.1.18 in c:\\users\\acorn\\appdata\\local\\programs\\python\\python311\\lib\\site-packages (from tiktoken<0.6.0,>=0.5.2->langchain_openai) (2023.12.25)\n",
      "Requirement already satisfied: idna>=2.8 in c:\\users\\acorn\\appdata\\local\\programs\\python\\python311\\lib\\site-packages (from anyio<5,>=3->langchain-core<0.2,>=0.1.7->langchain_openai) (3.6)\n",
      "Requirement already satisfied: certifi in c:\\users\\acorn\\appdata\\local\\programs\\python\\python311\\lib\\site-packages (from httpx<1,>=0.23.0->openai<2.0.0,>=1.6.1->langchain_openai) (2023.7.22)\n",
      "Requirement already satisfied: httpcore in c:\\users\\acorn\\appdata\\local\\programs\\python\\python311\\lib\\site-packages (from httpx<1,>=0.23.0->openai<2.0.0,>=1.6.1->langchain_openai) (1.0.2)\n",
      "Requirement already satisfied: jsonpointer>=1.9 in c:\\users\\acorn\\appdata\\local\\programs\\python\\python311\\lib\\site-packages (from jsonpatch<2.0,>=1.33->langchain-core<0.2,>=0.1.7->langchain_openai) (2.4)\n",
      "Requirement already satisfied: annotated-types>=0.4.0 in c:\\users\\acorn\\appdata\\local\\programs\\python\\python311\\lib\\site-packages (from pydantic<3,>=1->langchain-core<0.2,>=0.1.7->langchain_openai) (0.6.0)\n",
      "Requirement already satisfied: pydantic-core==2.14.3 in c:\\users\\acorn\\appdata\\local\\programs\\python\\python311\\lib\\site-packages (from pydantic<3,>=1->langchain-core<0.2,>=0.1.7->langchain_openai) (2.14.3)\n",
      "Requirement already satisfied: charset-normalizer<4,>=2 in c:\\users\\acorn\\appdata\\local\\programs\\python\\python311\\lib\\site-packages (from requests<3,>=2->langchain-core<0.2,>=0.1.7->langchain_openai) (3.3.2)\n",
      "Requirement already satisfied: urllib3<3,>=1.21.1 in c:\\users\\acorn\\appdata\\local\\programs\\python\\python311\\lib\\site-packages (from requests<3,>=2->langchain-core<0.2,>=0.1.7->langchain_openai) (2.0.7)\n",
      "Requirement already satisfied: colorama in c:\\users\\acorn\\appdata\\roaming\\python\\python311\\site-packages (from tqdm>4->openai<2.0.0,>=1.6.1->langchain_openai) (0.4.6)\n",
      "Requirement already satisfied: h11<0.15,>=0.13 in c:\\users\\acorn\\appdata\\local\\programs\\python\\python311\\lib\\site-packages (from httpcore->httpx<1,>=0.23.0->openai<2.0.0,>=1.6.1->langchain_openai) (0.14.0)\n",
      "Downloading langchain_openai-0.0.2.post1-py3-none-any.whl (28 kB)\n",
      "Downloading openai-1.7.2-py3-none-any.whl (212 kB)\n",
      "   ---------------------------------------- 0.0/212.1 kB ? eta -:--:--\n",
      "   ----------- ---------------------------- 61.4/212.1 kB 1.7 MB/s eta 0:00:01\n",
      "   ------------------------------------ --- 194.6/212.1 kB 3.0 MB/s eta 0:00:01\n",
      "   ---------------------------------------- 212.1/212.1 kB 2.6 MB/s eta 0:00:00\n",
      "Installing collected packages: openai, langchain_openai\n",
      "  Attempting uninstall: openai\n",
      "    Found existing installation: openai 0.28.0\n",
      "    Uninstalling openai-0.28.0:\n",
      "      Successfully uninstalled openai-0.28.0\n",
      "Successfully installed langchain_openai-0.0.2.post1 openai-1.7.2\n"
     ]
    }
   ],
   "source": [
    "!pip install langchain_openai"
   ]
  },
  {
   "cell_type": "code",
   "execution_count": 3,
   "metadata": {},
   "outputs": [],
   "source": [
    "from langchain.chains import create_tagging_chain, create_tagging_chain_pydantic\n",
    "from langchain_openai import ChatOpenAI"
   ]
  },
  {
   "cell_type": "code",
   "execution_count": 4,
   "metadata": {},
   "outputs": [],
   "source": [
    "import os\n",
    "\n",
    "OPENAI_KEY = os.getenv('OPENAI_API_KEY')\n",
    "if not OPENAI_KEY:\n",
    "    raise ValueError(\"OpenAI API key not found in environment variables\")\n"
   ]
  },
  {
   "cell_type": "code",
   "execution_count": 5,
   "metadata": {},
   "outputs": [],
   "source": [
    "# Schema\n",
    "schema = {\n",
    "    \"properties\": {\n",
    "        \"sentiment\": {\"type\": \"string\"},\n",
    "        \"aggressiveness\": {\"type\": \"integer\"},\n",
    "        \"language\": {\"type\": \"string\"},\n",
    "    }\n",
    "}\n",
    "\n",
    "# LLM\n",
    "llm = ChatOpenAI(temperature=0, model=\"gpt-3.5-turbo\")\n",
    "chain = create_tagging_chain(schema, llm)"
   ]
  },
  {
   "cell_type": "code",
   "execution_count": 8,
   "metadata": {},
   "outputs": [
    {
     "data": {
      "text/plain": [
       "{'sentiment': 'negative', 'language': 'Korean'}"
      ]
     },
     "execution_count": 8,
     "metadata": {},
     "output_type": "execute_result"
    }
   ],
   "source": [
    "inp = \"나는 똥을 뿌직뿌직 잘 못 쌋어!\"\n",
    "chain.run(inp)"
   ]
  },
  {
   "cell_type": "code",
   "execution_count": 15,
   "metadata": {},
   "outputs": [],
   "source": [
    "schema = {\n",
    "    \"properties\": {\n",
    "        \"똥싼여부\": {\"type\": \"string\"},\n",
    "        \"aggressiveness\": {\n",
    "            \"type\": \"integer\",\n",
    "            \"enum\": [1, 2, 3, 4, 5],\n",
    "            \"description\": \"describes how aggressive the statement is, the higher the number the more aggressive\",\n",
    "        },\n",
    "        \"language\": {\n",
    "            \"type\": \"string\",\n",
    "            \"enum\": [\"spanish\", \"english\", \"french\", \"german\", \"italian\"],\n",
    "        },\n",
    "    },\n",
    "    \"required\": [\"language\", \"똥싼여부\", \"aggressiveness\"],\n",
    "}"
   ]
  },
  {
   "cell_type": "code",
   "execution_count": 16,
   "metadata": {},
   "outputs": [],
   "source": [
    "chain = create_tagging_chain(schema, llm)"
   ]
  },
  {
   "cell_type": "code",
   "execution_count": 17,
   "metadata": {},
   "outputs": [
    {
     "data": {
      "text/plain": [
       "{'aggressiveness': '3', 'language': 'korean'}"
      ]
     },
     "execution_count": 17,
     "metadata": {},
     "output_type": "execute_result"
    }
   ],
   "source": [
    "inp = \"나는 똥을 뿌직뿌직 잘 못 쌋어!\"\n",
    "chain.run(inp)"
   ]
  }
 ],
 "metadata": {
  "kernelspec": {
   "display_name": "Python 3",
   "language": "python",
   "name": "python3"
  },
  "language_info": {
   "codemirror_mode": {
    "name": "ipython",
    "version": 3
   },
   "file_extension": ".py",
   "mimetype": "text/x-python",
   "name": "python",
   "nbconvert_exporter": "python",
   "pygments_lexer": "ipython3",
   "version": "3.11.6"
  }
 },
 "nbformat": 4,
 "nbformat_minor": 2
}
