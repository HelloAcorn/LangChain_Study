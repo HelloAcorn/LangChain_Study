{
 "cells": [
  {
   "cell_type": "code",
   "execution_count": 4,
   "metadata": {},
   "outputs": [
    {
     "name": "stderr",
     "output_type": "stream",
     "text": [
      "c:\\Users\\Acorn\\AppData\\Local\\Programs\\Python\\Python311\\Lib\\site-packages\\tqdm\\auto.py:21: TqdmWarning: IProgress not found. Please update jupyter and ipywidgets. See https://ipywidgets.readthedocs.io/en/stable/user_install.html\n",
      "  from .autonotebook import tqdm as notebook_tqdm\n",
      ".gitattributes: 100%|██████████| 1.18k/1.18k [00:00<?, ?B/s]\n",
      "1_Pooling/config.json: 100%|██████████| 190/190 [00:00<?, ?B/s] \n",
      "README.md: 100%|██████████| 10.6k/10.6k [00:00<00:00, 10.6MB/s]\n",
      "config.json: 100%|██████████| 612/612 [00:00<?, ?B/s] \n",
      "config_sentence_transformers.json: 100%|██████████| 116/116 [00:00<00:00, 116kB/s]\n",
      "data_config.json: 100%|██████████| 39.3k/39.3k [00:00<00:00, 199kB/s]\n",
      "pytorch_model.bin: 100%|██████████| 90.9M/90.9M [00:07<00:00, 11.6MB/s]\n",
      "sentence_bert_config.json: 100%|██████████| 53.0/53.0 [00:00<00:00, 53.1kB/s]\n",
      "special_tokens_map.json: 100%|██████████| 112/112 [00:00<?, ?B/s] \n",
      "tokenizer.json: 100%|██████████| 466k/466k [00:00<00:00, 766kB/s]\n",
      "tokenizer_config.json: 100%|██████████| 350/350 [00:00<00:00, 345kB/s]\n",
      "train_script.py: 100%|██████████| 13.2k/13.2k [00:00<?, ?B/s]\n",
      "vocab.txt: 100%|██████████| 232k/232k [00:00<00:00, 588kB/s]\n",
      "modules.json: 100%|██████████| 349/349 [00:00<?, ?B/s] \n",
      "Number of requested results 4 is greater than number of elements in index 3, updating n_results = 3\n"
     ]
    },
    {
     "name": "stdout",
     "output_type": "stream",
     "text": [
      "가. D은 법정에서 피고인이 피해자의 뒤에 붙어 서 전동차에 탑승하였고, 전동차 내에서 피해자의 바로 뒤에 서서 한 몸처럼 붙어 있었 \n",
      "\n",
      "으며, 피고인이 손등을 피해자의 엉덩이에 대고 있었다고 진술하였다.\n",
      "\n",
      "나. 그러나 D은 당시 피고인의 좌측 뒤에 약간 떨어져 있었고, 피고인과 D 사이에는 2~3명 정도가 있었으며, 그 자리에서는 피고인의 추 \n",
      "\n",
      "행 장면을 보기는 힘들었다는 것이고, 따라서 피고인이 손등을 피해자의 엉덩이에 대고 있었다,는 부분은 동료 경찰관으로부터 들은 내 \n",
      "\n",
      "용이거나 추측한 진술일 가능성이 있다. 또한 피고인의 성기가 피해자의 엉덩이에 닿았다는 점은 D의 진술에 따르더라도 직접 본 것이 \n",
      "\n",
      "아니라 상체의 밀착정도에 비추어 당연히 접촉하였을 것이라는 내용으로 추측 진술에 불과하다다. 당시 촬영한 동영상에는 피고인이 피 \n",
      "\n",
      "해자의 바로 뒤에 서서 전동차에 탑승하는 장면, 전동차 내에서 피고인이 피해자의 바로 뒤에 같은 방향으로 서 있으며, 두 사람의 상체 \n",
      "\n",
      "가 상당히 밀착되어 있는 장면, 피고인이 왼쪽 팔을 아래로 내리고 있는 장면과 피고인과 피해자의 하체 부위가 촬영되어 있기는 하다. \n",
      "\n",
      "그러나 당시 전동차 내에는 매우 많은 사람들이 있어 다른 사람들도 상당히 밀착한 상태로 탑승하고 있었고, 위 동영상만으로 피고인의 \n",
      "\n",
      "손등이나 성기가 피해자의 엉덩이에 닿았다고 단정할 수 없다. 라. D은 법정에서 피해자가 0000에서 몸을 비틀고 뒤를 돌아보면서 싫 \n",
      "\n",
      "은 내색을 했으며, 피하려면 피할 공간이 있었음에도 피고인은 계속 허리를 앞으로 내밀면서 피해 여성에 밀착하였다고 진술하였고, 위 \n",
      "\n",
      "동영상에는 피해자가 뒤에 있는 피고인을 의식하고 돌아보는 것 같은 장면과 위치를 변경하는 장면이 촬영되어 있기는 하다. 그러나 이 \n",
      "\n",
      "성과의 단순한 신체접촉도 불쾌감을 유발할 수 있고 이를 피하려는 행동을 할 수 있으므로, 접촉 경위, 접촉 부위와 정도 등에 대한 피해\n"
     ]
    }
   ],
   "source": [
    "# import\n",
    "from langchain.text_splitter import CharacterTextSplitter\n",
    "from langchain_community.document_loaders import TextLoader\n",
    "from langchain_community.embeddings.sentence_transformer import (\n",
    "    SentenceTransformerEmbeddings,\n",
    ")\n",
    "from langchain_community.vectorstores import Chroma\n",
    "\n",
    "# load the document and split it into chunks\n",
    "loader = TextLoader(\"TestDoc.txt\")\n",
    "documents = loader.load()\n",
    "\n",
    "# split it into chunks\n",
    "text_splitter = CharacterTextSplitter(chunk_size=1000, chunk_overlap=0)\n",
    "docs = text_splitter.split_documents(documents)\n",
    "\n",
    "# create the open-source embedding function\n",
    "embedding_function = SentenceTransformerEmbeddings(model_name=\"all-MiniLM-L6-v2\")\n",
    "\n",
    "# load it into Chroma\n",
    "db = Chroma.from_documents(docs, embedding_function)\n",
    "\n"
   ]
  },
  {
   "cell_type": "code",
   "execution_count": 5,
   "metadata": {},
   "outputs": [
    {
     "name": "stderr",
     "output_type": "stream",
     "text": [
      "Number of requested results 4 is greater than number of elements in index 3, updating n_results = 3\n"
     ]
    },
    {
     "name": "stdout",
     "output_type": "stream",
     "text": [
      "가. D은 법정에서 피고인이 피해자의 뒤에 붙어 서 전동차에 탑승하였고, 전동차 내에서 피해자의 바로 뒤에 서서 한 몸처럼 붙어 있었 \n",
      "\n",
      "으며, 피고인이 손등을 피해자의 엉덩이에 대고 있었다고 진술하였다.\n",
      "\n",
      "나. 그러나 D은 당시 피고인의 좌측 뒤에 약간 떨어져 있었고, 피고인과 D 사이에는 2~3명 정도가 있었으며, 그 자리에서는 피고인의 추 \n",
      "\n",
      "행 장면을 보기는 힘들었다는 것이고, 따라서 피고인이 손등을 피해자의 엉덩이에 대고 있었다,는 부분은 동료 경찰관으로부터 들은 내 \n",
      "\n",
      "용이거나 추측한 진술일 가능성이 있다. 또한 피고인의 성기가 피해자의 엉덩이에 닿았다는 점은 D의 진술에 따르더라도 직접 본 것이 \n",
      "\n",
      "아니라 상체의 밀착정도에 비추어 당연히 접촉하였을 것이라는 내용으로 추측 진술에 불과하다다. 당시 촬영한 동영상에는 피고인이 피 \n",
      "\n",
      "해자의 바로 뒤에 서서 전동차에 탑승하는 장면, 전동차 내에서 피고인이 피해자의 바로 뒤에 같은 방향으로 서 있으며, 두 사람의 상체 \n",
      "\n",
      "가 상당히 밀착되어 있는 장면, 피고인이 왼쪽 팔을 아래로 내리고 있는 장면과 피고인과 피해자의 하체 부위가 촬영되어 있기는 하다. \n",
      "\n",
      "그러나 당시 전동차 내에는 매우 많은 사람들이 있어 다른 사람들도 상당히 밀착한 상태로 탑승하고 있었고, 위 동영상만으로 피고인의 \n",
      "\n",
      "손등이나 성기가 피해자의 엉덩이에 닿았다고 단정할 수 없다. 라. D은 법정에서 피해자가 0000에서 몸을 비틀고 뒤를 돌아보면서 싫 \n",
      "\n",
      "은 내색을 했으며, 피하려면 피할 공간이 있었음에도 피고인은 계속 허리를 앞으로 내밀면서 피해 여성에 밀착하였다고 진술하였고, 위 \n",
      "\n",
      "동영상에는 피해자가 뒤에 있는 피고인을 의식하고 돌아보는 것 같은 장면과 위치를 변경하는 장면이 촬영되어 있기는 하다. 그러나 이 \n",
      "\n",
      "성과의 단순한 신체접촉도 불쾌감을 유발할 수 있고 이를 피하려는 행동을 할 수 있으므로, 접촉 경위, 접촉 부위와 정도 등에 대한 피해\n"
     ]
    }
   ],
   "source": [
    "# query it\n",
    "query = \"이 판결은 유죄야?\"\n",
    "docs = db.similarity_search(query)\n",
    "\n",
    "# print results\n",
    "print(docs[0].page_content)"
   ]
  }
 ],
 "metadata": {
  "kernelspec": {
   "display_name": "Python 3",
   "language": "python",
   "name": "python3"
  },
  "language_info": {
   "codemirror_mode": {
    "name": "ipython",
    "version": 3
   },
   "file_extension": ".py",
   "mimetype": "text/x-python",
   "name": "python",
   "nbconvert_exporter": "python",
   "pygments_lexer": "ipython3",
   "version": "3.11.6"
  }
 },
 "nbformat": 4,
 "nbformat_minor": 2
}
