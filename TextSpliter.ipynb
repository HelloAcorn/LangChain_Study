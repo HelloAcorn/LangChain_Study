{
 "cells": [
  {
   "cell_type": "code",
   "execution_count": 1,
   "metadata": {},
   "outputs": [],
   "source": [
    "from langchain.text_splitter import HTMLHeaderTextSplitter"
   ]
  },
  {
   "cell_type": "code",
   "execution_count": 2,
   "metadata": {},
   "outputs": [],
   "source": [
    "html_string = \"\"\"\n",
    "<!DOCTYPE html>\n",
    "<html>\n",
    "<body>\n",
    "    <div>\n",
    "        <h1>Foo</h1>\n",
    "        <p>Some intro text about Foo.</p>\n",
    "        <div>\n",
    "            <h2>Bar main section</h2>\n",
    "            <p>Some intro text about Bar.</p>\n",
    "            <h3>Bar subsection 1</h3>\n",
    "            <p>Some text about the first subtopic of Bar.</p>\n",
    "            <h3>Bar subsection 2</h3>\n",
    "            <p>Some text about the second subtopic of Bar.</p>\n",
    "        </div>\n",
    "        <div>\n",
    "            <h2>Baz</h2>\n",
    "            <p>Some text about Baz</p>\n",
    "        </div>\n",
    "        <br>\n",
    "        <p>Some concluding text about Foo</p>\n",
    "    </div>\n",
    "</body>\n",
    "</html>\n",
    "\"\"\""
   ]
  },
  {
   "cell_type": "code",
   "execution_count": 3,
   "metadata": {},
   "outputs": [
    {
     "data": {
      "text/plain": [
       "[Document(page_content='Foo'),\n",
       " Document(page_content='Some intro text about Foo.  \\nBar main section Bar subsection 1 Bar subsection 2', metadata={'Header 1': 'Foo'}),\n",
       " Document(page_content='Some intro text about Bar.', metadata={'Header 1': 'Foo', 'Header 2': 'Bar main section'}),\n",
       " Document(page_content='Some text about the first subtopic of Bar.', metadata={'Header 1': 'Foo', 'Header 2': 'Bar main section', 'Header 3': 'Bar subsection 1'}),\n",
       " Document(page_content='Some text about the second subtopic of Bar.', metadata={'Header 1': 'Foo', 'Header 2': 'Bar main section', 'Header 3': 'Bar subsection 2'}),\n",
       " Document(page_content='Baz', metadata={'Header 1': 'Foo'}),\n",
       " Document(page_content='Some text about Baz', metadata={'Header 1': 'Foo', 'Header 2': 'Baz'}),\n",
       " Document(page_content='Some concluding text about Foo', metadata={'Header 1': 'Foo'})]"
      ]
     },
     "execution_count": 3,
     "metadata": {},
     "output_type": "execute_result"
    }
   ],
   "source": [
    "headers_to_split_on = [\n",
    "    (\"h1\", \"Header 1\"),\n",
    "    (\"h2\", \"Header 2\"),\n",
    "    (\"h3\", \"Header 3\"),\n",
    "]\n",
    "\n",
    "html_splitter = HTMLHeaderTextSplitter(headers_to_split_on=headers_to_split_on)\n",
    "html_header_splits = html_splitter.split_text(html_string)\n",
    "html_header_splits"
   ]
  },
  {
   "cell_type": "code",
   "execution_count": 6,
   "metadata": {},
   "outputs": [
    {
     "data": {
      "text/plain": [
       "[Document(page_content='Case 2: Each φn is satisfiable. There are only finitely many possible models with universe {x0,…, xn+1}. Gödel orders them as a tree by defining a model M to be below a model M′ if M is a submodel of M′. In this way we obtain a tree which is finitely branching but infinite. By König’s Lemma there is an infinite branch B. (In the proof, Gödel explicitly constructs the branch given by König’s Lemma rather than citing it by name.) The union of the models on B forms a model M with universe {x0,', metadata={'Header 1': 'Kurt Gödel', 'Header 2': '2. Gödel’s Mathematical Work', 'Header 3': '2.1 The Completeness Theorem', 'Header 4': '2.1.2 Proof of the Completeness Theorem'}),\n",
       " Document(page_content='a model M with universe {x0, x1,…}. Since M satisfies each φn, the original formula φ holds in M. So φ is satisfiable and we are done.', metadata={'Header 1': 'Kurt Gödel', 'Header 2': '2. Gödel’s Mathematical Work', 'Header 3': '2.1 The Completeness Theorem', 'Header 4': '2.1.2 Proof of the Completeness Theorem'}),\n",
       " Document(page_content='Note that the model, in the satisfiability case of Gödel’s proof, is always countable. Thus this proof of the Completeness Theorem gives also the Löweheim-Skolem Theorem (see below). Gödel extends the result to countably many formulas and to the case of first order logic with identity. He also proves the independence of the axioms.', metadata={'Header 1': 'Kurt Gödel', 'Header 2': '2. Gödel’s Mathematical Work', 'Header 3': '2.1 The Completeness Theorem', 'Header 4': '2.1.2 Proof of the Completeness Theorem'}),\n",
       " Document(page_content='In 1930 Gödel published the paper based on his thesis (Gödel 1930) notable also for the inclusion of the compactness theorem, which is only implicitly stated in the thesis. The theorem as stated by Gödel in Gödel 1930 is as follows: a countably infinite set of quantificational formulas is satisfiable if and only if every finite subset of those formulas is satisfiable. Gödel uses compactness to derive a generalization of the completeness theorem.', metadata={'Header 1': 'Kurt Gödel', 'Header 2': '2. Gödel’s Mathematical Work', 'Header 3': '2.1 The Completeness Theorem', 'Header 4': '2.1.2 Proof of the Completeness Theorem'}),\n",
       " Document(page_content='The Compactness Theorem was extended to the case of uncountable vocabularies by Maltsev in 1936 (see Mal’cev 1971), from which the Upward Löwenheim-Skolem theorem immediately follows. The Compactness Theorem would become one of the main tools in the then fledgling subject of model theory.', metadata={'Header 1': 'Kurt Gödel', 'Header 2': '2. Gödel’s Mathematical Work', 'Header 3': '2.1 The Completeness Theorem', 'Header 4': '2.1.2 Proof of the Completeness Theorem'}),\n",
       " Document(page_content='A theory is said to be categorical if it has only one model up to isomorphism; it is λ-categorical if it has only one model of cardinality λ, up to isomorphism. One of the main consequences of the completeness theorem is that categoricity fails for Peano arithmetic and for Zermelo-Fraenkel set theory.', metadata={'Header 1': 'Kurt Gödel', 'Header 2': '2. Gödel’s Mathematical Work', 'Header 3': '2.1 The Completeness Theorem', 'Header 4': '2.1.3 An Important Consequence of the Completeness Theorem'}),\n",
       " Document(page_content='In detail, regarding the first order Peano axioms (henceforth PA), the existence of non-standard models of them actually follows from completeness together with compactness. One constructs these models, which contain infinitely large integers, as follows: add a new constant symbol c to the language of arithmetic. Extend PA to a new theory PA* by adding to it the infinite collection of axioms: {c > 0, c > 1, …}, where, e.g., 3 is S(S(S(0))). PA* is finitely consistent (i.e., every finite subset', metadata={'Header 1': 'Kurt Gödel', 'Header 2': '2. Gödel’s Mathematical Work', 'Header 3': '2.1 The Completeness Theorem', 'Header 4': '2.1.3 An Important Consequence of the Completeness Theorem'}),\n",
       " Document(page_content='(i.e., every finite subset of PA* is consistent) hence consistent, hence by the Completeness Theorem it has a model.', metadata={'Header 1': 'Kurt Gödel', 'Header 2': '2. Gödel’s Mathematical Work', 'Header 3': '2.1 The Completeness Theorem', 'Header 4': '2.1.3 An Important Consequence of the Completeness Theorem'}),\n",
       " Document(page_content='This simple fact about models of Peano arithmetic was not pointed out by Gödel in any of the publications connected with the Completeness Theorem from that time, and it seems not to have been noticed by the general logic community until much later. Skolem’s definable ultrapower construction from 1933 (see Skolem 1933) gives a direct construction of a non-standard model of True Arithmetic (which extends Peano arithmetic, being the set of arithmetic sentences true in the natural numbers). But', metadata={'Header 1': 'Kurt Gödel', 'Header 2': '2. Gödel’s Mathematical Work', 'Header 3': '2.1 The Completeness Theorem', 'Header 4': '2.1.3 An Important Consequence of the Completeness Theorem'}),\n",
       " Document(page_content='in the natural numbers). But Skolem never mentions the fact that the existence of such models follows from the completeness and compactness theorems. Gödel in his review (1934c) of Skolem’s paper also does not mention this fact, rather observing that the failure of categoricity for arithmetic follows from the incompleteness theorem.', metadata={'Header 1': 'Kurt Gödel', 'Header 2': '2. Gödel’s Mathematical Work', 'Header 3': '2.1 The Completeness Theorem', 'Header 4': '2.1.3 An Important Consequence of the Completeness Theorem'})]"
      ]
     },
     "execution_count": 6,
     "metadata": {},
     "output_type": "execute_result"
    }
   ],
   "source": [
    "from langchain.text_splitter import RecursiveCharacterTextSplitter\n",
    "\n",
    "url = \"https://plato.stanford.edu/entries/goedel/\"\n",
    "\n",
    "headers_to_split_on = [\n",
    "    (\"h1\", \"Header 1\"),\n",
    "    (\"h2\", \"Header 2\"),\n",
    "    (\"h3\", \"Header 3\"),\n",
    "    (\"h4\", \"Header 4\"),\n",
    "]\n",
    "\n",
    "html_splitter = HTMLHeaderTextSplitter(headers_to_split_on=headers_to_split_on)\n",
    "\n",
    "# for local file use html_splitter.split_text_from_file(<path_to_file>)\n",
    "html_header_splits = html_splitter.split_text_from_url(url)\n",
    "\n",
    "chunk_size = 500\n",
    "chunk_overlap = 30\n",
    "text_splitter = RecursiveCharacterTextSplitter(\n",
    "    chunk_size=chunk_size, chunk_overlap=chunk_overlap\n",
    ")\n",
    "\n",
    "# Split\n",
    "splits = text_splitter.split_documents(html_header_splits)\n",
    "splits[50:60]"
   ]
  }
 ],
 "metadata": {
  "kernelspec": {
   "display_name": "Python 3",
   "language": "python",
   "name": "python3"
  },
  "language_info": {
   "codemirror_mode": {
    "name": "ipython",
    "version": 3
   },
   "file_extension": ".py",
   "mimetype": "text/x-python",
   "name": "python",
   "nbconvert_exporter": "python",
   "pygments_lexer": "ipython3",
   "version": "3.11.6"
  }
 },
 "nbformat": 4,
 "nbformat_minor": 2
}
